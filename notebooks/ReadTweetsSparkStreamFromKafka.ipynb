{
 "cells": [
  {
   "cell_type": "markdown",
   "metadata": {},
   "source": [
    "# Run analysis on tweets stream and store as parquet"
   ]
  },
  {
   "cell_type": "code",
   "execution_count": null,
   "metadata": {},
   "outputs": [],
   "source": [
    "from pyspark.sql import SparkSession\n",
    "\n",
    "# Spark session & context\n",
    "spark = (SparkSession\n",
    "         .builder\n",
    "         .master(\"local[2]\")\n",
    "         .appName('twitter-read-event-consumer')\n",
    "         # Add kafka package\n",
    "         .config(\"spark.jars.packages\", \"org.apache.spark:spark-sql-kafka-0-10_2.12:3.0.2\")\n",
    "         .getOrCreate())\n",
    "\n",
    "# read the tweet data from socket\n",
    "lines = (spark\n",
    "          .readStream\n",
    "          .format(\"kafka\")\n",
    "          .option(\"kafka.bootstrap.servers\", \"localhost:9092\") # kafka server\n",
    "          .option(\"subscribe\", \"twitterdata\") # topic\n",
    "          .option(\"startingOffsets\", \"earliest\") # start from beginning \n",
    "          .load())\n",
    "print(type(lines))"
   ]
  },
  {
   "cell_type": "markdown",
   "metadata": {},
   "source": [
    "## Analysis: part-1"
   ]
  },
  {
   "cell_type": "code",
   "execution_count": null,
   "metadata": {},
   "outputs": [],
   "source": [
    "from pyspark.sql import functions as F\n",
    "from pyspark.sql.functions import *\n",
    "from pyspark.sql.types import *\n",
    "from textblob import TextBlob\n",
    "import numpy as np\n",
    "import pandas as pd\n",
    "import re\n",
    "\n",
    "def clean_tweet(tweet):\n",
    "        return ' '.join(re.sub(\"(@[A-Za-z0-9]+)|([^0-9A-Za-z \\t])|(\\w+:\\/\\/\\S+)\", \" \", tweet).split())\n",
    "\n",
    "def analyze_sentiment(tweet):\n",
    "    analysis = TextBlob(self.clean_tweet(tweet))\n",
    "\n",
    "    if analysis.sentiment.polarity > 0:\n",
    "        return 1\n",
    "    elif analysis.sentiment.polarity == 0:\n",
    "        return 0\n",
    "    else:\n",
    "        return -1\n",
    "\n",
    "def tweets_to_data_frame(tweets):\n",
    "    df = pd.DataFrame(data=[tweet.text for tweet in tweets], columns=['tweets'])\n",
    "\n",
    "    df['id'] = np.array([tweet.id for tweet in tweets])\n",
    "    df['len'] = np.array([len(tweet.text) for tweet in tweets])\n",
    "    df['date'] = np.array([tweet.created_at for tweet in tweets])\n",
    "    df['source'] = np.array([tweet.source for tweet in tweets])\n",
    "    df['likes'] = np.array([tweet.favorite_count for tweet in tweets])\n",
    "    df['retweets'] = np.array([tweet.retweet_count for tweet in tweets])\n",
    "\n",
    "    return df\n",
    "\n",
    "\n",
    "if __name__ == \"__main__\":\n",
    "    \n",
    "    df = tweets_to_data_frame(lines)\n",
    "    df['sentiment'] = np.array([analyze_sentiment(tweet) for tweet in df['tweets']])\n",
    "\n",
    "    print(df.head(10))"
   ]
  },
  {
   "cell_type": "markdown",
   "metadata": {},
   "source": [
    "## Analysis: part-2"
   ]
  },
  {
   "cell_type": "code",
   "execution_count": null,
   "metadata": {},
   "outputs": [],
   "source": [
    "from pyspark.sql.functions import *\n",
    "from pyspark.sql.types import *\n",
    "from pyspark.sql import functions as F\n",
    "from textblob import TextBlob\n",
    "import json\n",
    "import os\n",
    "\n",
    "def preprocessing(lines):\n",
    "    words = lines.select(explode(split(lines.value, \"t_end\")).alias(\"word\"))\n",
    "    words = words.na.replace('', None)\n",
    "    words = words.na.drop()\n",
    "    words = words.withColumn('word', F.regexp_replace('word', r'http\\S+', ''))\n",
    "    words = words.withColumn('word', F.regexp_replace('word', '@\\w+', ''))\n",
    "    words = words.withColumn('word', F.regexp_replace('word', '#', ''))\n",
    "    words = words.withColumn('word', F.regexp_replace('word', 'RT', ''))\n",
    "    words = words.withColumn('word', F.regexp_replace('word', ':', ''))\n",
    "    return words\n",
    "\n",
    "# text classification\n",
    "def polarity_detection(text):\n",
    "    return TextBlob(text).sentiment.polarity\n",
    "\n",
    "def subjectivity_detection(text):\n",
    "    return TextBlob(text).sentiment.subjectivity\n",
    "\n",
    "def text_classification(words):\n",
    "    # polarity detection\n",
    "    polarity_detection_udf = udf(polarity_detection, StringType())\n",
    "    words = words.withColumn(\"polarity\", polarity_detection_udf(\"word\"))\n",
    "    # subjectivity detection\n",
    "    subjectivity_detection_udf = udf(subjectivity_detection, StringType())\n",
    "    words = words.withColumn(\"subjectivity\", subjectivity_detection_udf(\"word\"))\n",
    "    return words\n",
    "    \n",
    "if __name__ == \"__main__\":\n",
    "    \n",
    "    # Preprocess the data\n",
    "    words = preprocessing(lines)\n",
    "\n",
    "    # text classification to define polarity and subjectivity\n",
    "    words = text_classification(words)\n",
    "    print(type(words))\n",
    "    words = words.repartition(1)\n"
   ]
  },
  {
   "cell_type": "code",
   "execution_count": null,
   "metadata": {},
   "outputs": [],
   "source": [
    "# spark.sql(\"select polarity, subjectivity from word\").show()\n",
    "words.select('polarity').show()"
   ]
  },
  {
   "cell_type": "code",
   "execution_count": null,
   "metadata": {},
   "outputs": [],
   "source": [
    "# storing schema in a file\n",
    "data_path = os.path.join(os.path.pardir, 'data', 'processed', 'json')\n",
    "checkpoint_path = os.path.join(os.path.pardir, 'data', 'processed', 'json', './check')\n",
    "schema = words.schema\n",
    "schema_path = data_path + '/tweets.txt'\n",
    "with open(schema_path, 'w') as file:\n",
    "    #json.dump(schema, json_file)\n",
    "    file.write(str(schema))"
   ]
  },
  {
   "cell_type": "code",
   "execution_count": null,
   "metadata": {},
   "outputs": [],
   "source": [
    "# Start query stream over stream dataframe\n",
    "query = (\n",
    "    words.writeStream\n",
    "    .queryName(\"all_tweets\")\n",
    "    .option(\"path\", data_path)\n",
    "    .format(\"json\")\n",
    "    .outputMode(\"append\")\n",
    "    .option(\"checkpointLocation\", checkpoint_path)\n",
    "    #.partitionBy(\"change_timestamp_date\", \"server_name\")\n",
    "    .trigger(processingTime='60 seconds')\n",
    "    .start())\n",
    "query.awaitTermination()"
   ]
  }
 ],
 "metadata": {
  "kernelspec": {
   "display_name": "Python 3",
   "language": "python",
   "name": "python3"
  },
  "language_info": {
   "codemirror_mode": {
    "name": "ipython",
    "version": 3
   },
   "file_extension": ".py",
   "mimetype": "text/x-python",
   "name": "python",
   "nbconvert_exporter": "python",
   "pygments_lexer": "ipython3",
   "version": "3.8.5"
  }
 },
 "nbformat": 4,
 "nbformat_minor": 4
}
