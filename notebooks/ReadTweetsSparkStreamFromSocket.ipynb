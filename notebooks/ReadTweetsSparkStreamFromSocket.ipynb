{
 "cells": [
  {
   "cell_type": "markdown",
   "metadata": {},
   "source": [
    "# Read tweets stream from socket"
   ]
  },
  {
   "cell_type": "code",
   "execution_count": null,
   "metadata": {},
   "outputs": [],
   "source": [
    "# import findspark\n",
    "# import pyspark\n",
    "# import sys\n",
    "# import time\n",
    "# findspark.init('/Users/abhisheksingh/Spark/spark-3.0.2-bin-hadoop2.7')"
   ]
  },
  {
   "cell_type": "code",
   "execution_count": null,
   "metadata": {},
   "outputs": [],
   "source": [
    "from pyspark.streaming import StreamingContext\n",
    "from pyspark import SparkContext\n",
    "from pyspark.sql import SQLContext\n",
    "from pyspark.sql.functions import desc\n",
    "\n",
    "sc = SparkContext(\"local[2]\", \"ReadTweetsFromSocket\")\n",
    "ssc = StreamingContext(sc, 10)\n",
    "sqlContext = SQLContext(sc)\n",
    "\n",
    "socket_stream = ssc.socketTextStream('localhost', 5555)\n",
    "socket_lines = socket_stream.window(20)\n",
    "print(type(socket_lines))"
   ]
  },
  {
   "cell_type": "code",
   "execution_count": null,
   "metadata": {},
   "outputs": [],
   "source": [
    "from collections import namedtuple\n",
    "fields = ('tag', 'count')\n",
    "Tweet = namedtuple('Tweet', fields)\n",
    "\n",
    "# Use paranthesis for multiple lines or use \\\n",
    "( socket_lines.flatMap( lambda text: text.split( \" \" ) ) #splits to a list\n",
    "  .filter( lambda word: word.lower().startswith( \"#\" ) ) # checks for a hashtag call\n",
    "  .map( lambda word: (word.lower(), 1)) # lower cases the word\n",
    "  .reduceByKey( lambda a,b: a + b ) # reduces\n",
    "  .map( lambda rec: Tweet( rec[0], rec[1] ) ) # stores in a tweet object\n",
    "  .foreachRDD( lambda rdd: rdd.toDF().sort( desc( \"count\") ) # sorts them in a DF\n",
    "  .limit(10).registerTempTable('tweets') ) ) # registers to a table."
   ]
  },
  {
   "cell_type": "markdown",
   "metadata": {},
   "source": [
    "\n",
    "# Run twitterReadFromSocket at this point"
   ]
  },
  {
   "cell_type": "code",
   "execution_count": null,
   "metadata": {},
   "outputs": [],
   "source": [
    "import time\n",
    "from IPython import display\n",
    "import matplotlib.pyplot as plt\n",
    "import seaborn as sns\n",
    "import pandas as pd\n",
    "# below only works for Jupyter Notebooks!\n",
    "%matplotlib inline"
   ]
  },
  {
   "cell_type": "code",
   "execution_count": null,
   "metadata": {},
   "outputs": [],
   "source": [
    "ssc.start()"
   ]
  },
  {
   "cell_type": "code",
   "execution_count": null,
   "metadata": {},
   "outputs": [],
   "source": [
    "count = 0\n",
    "while count < 10:\n",
    "    time.sleep(2)\n",
    "    top_10_tweets = sqlContext.sql( 'Select tag, count from tweets' )\n",
    "    top_10_df = top_10_tweets.toPandas()\n",
    "    display.clear_output(wait=True)\n",
    "    plt.figure( figsize = (10, 8) )\n",
    "    sns.barplot( x='count', y='tag', data=top_10_df)\n",
    "    plt.show()\n",
    "    count = count + 1"
   ]
  },
  {
   "cell_type": "code",
   "execution_count": null,
   "metadata": {},
   "outputs": [],
   "source": [
    "ssc.stop()"
   ]
  }
 ],
 "metadata": {
  "kernelspec": {
   "display_name": "Python 3",
   "language": "python",
   "name": "python3"
  },
  "language_info": {
   "codemirror_mode": {
    "name": "ipython",
    "version": 3
   },
   "file_extension": ".py",
   "mimetype": "text/x-python",
   "name": "python",
   "nbconvert_exporter": "python",
   "pygments_lexer": "ipython3",
   "version": "3.8.5"
  }
 },
 "nbformat": 4,
 "nbformat_minor": 4
}
