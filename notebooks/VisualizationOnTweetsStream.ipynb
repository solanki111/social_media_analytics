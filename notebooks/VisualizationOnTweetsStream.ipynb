{
 "cells": [
  {
   "cell_type": "code",
   "execution_count": null,
   "metadata": {},
   "outputs": [],
   "source": [
    "from pyspark.sql import SparkSession\n",
    "# Spark session & context\n",
    "spark = (SparkSession\n",
    "         .builder\n",
    "         .master(\"local[2]\")\n",
    "         .appName('twitter-read-event-consumer')\n",
    "         # Add kafka package\n",
    "         .config(\"spark.jars.packages\", \"org.apache.spark:spark-sql-kafka-0-10_2.12:3.0.2\")\n",
    "         .getOrCreate())"
   ]
  },
  {
   "cell_type": "code",
   "execution_count": null,
   "metadata": {},
   "outputs": [],
   "source": [
    "# Restore schema from json\n",
    "from pyspark.sql.types import StructType, StructField, BooleanType, LongType, IntegerType, StringType\n",
    "import json\n",
    "import os\n",
    "\n",
    "data_path = os.path.join(os.path.pardir, 'data', 'processed', 'json')\n",
    "schema_path = data_path + '/tweets.txt'\n",
    "#tweets_schema = StructType.fromJson(json.loads(schema_path))\n",
    "#spark.read.json(schema_path)\n",
    "#json.loads(schema_path)\n",
    "#tweets_schema = StructType.fieldNames(schema_path)\n",
    "#tweets_schema = spark.read.load(schema_path)\n",
    "tweets_schema = StructType(\n",
    "                    [(StructField(\"word\",StringType(),True),\n",
    "                     StructField(\"polarity\",StringType(),True),\n",
    "                     StructField(\"subjectivity\",StringType(),True))])"
   ]
  },
  {
   "cell_type": "code",
   "execution_count": null,
   "metadata": {},
   "outputs": [],
   "source": [
    "# Read parquet files as stream to output the number of rows\n",
    "# Start query stream over stream dataframe\n",
    "\n",
    "processed_tweet_df = (\n",
    "    spark\n",
    "    .readStream\n",
    "    .format(\"json\")\n",
    "    .schema(tweets_schema)\n",
    "    .load(data_path)\n",
    ")"
   ]
  },
  {
   "cell_type": "code",
   "execution_count": null,
   "metadata": {},
   "outputs": [],
   "source": [
    "# Output to memory to count rows\n",
    "queryStreamMem = (processed_tweet_df\n",
    " .writeStream\n",
    " .format(\"memory\")\n",
    " .queryName(\"processed_tweets\")\n",
    " .outputMode(\"update\")\n",
    " .start())"
   ]
  },
  {
   "cell_type": "code",
   "execution_count": null,
   "metadata": {},
   "outputs": [],
   "source": [
    "from time import sleep\n",
    "from IPython.display import clear_output\n",
    "\n",
    "# Count rows every 5 seconds while stream is active\n",
    "try:\n",
    "    i=1\n",
    "    # While stream is active, print count\n",
    "    while len(spark.streams.active) > 0:\n",
    "        \n",
    "        # Clear output\n",
    "        clear_output(wait=True)\n",
    "        print(\"Run:{}\".format(i))\n",
    "        \n",
    "        lst_queries = []\n",
    "        for s in spark.streams.active:\n",
    "            lst_queries.append(s.name)\n",
    "\n",
    "        # Verify if processed_tweets query is active before count\n",
    "        if \"polarity\" in lst_queries:\n",
    "            # Count number of events\n",
    "            spark.sql(\"select polarity, subjectivity from processed_tweets\").show()\n",
    "        else:\n",
    "            print(\"'processed_tweets' query not found.\")\n",
    "\n",
    "        sleep(5)\n",
    "        i=i+1\n",
    "        \n",
    "except KeyboardInterrupt:\n",
    "    # Stop Query Stream\n",
    "    queryStreamMem.stop()\n",
    "    \n",
    "    print(\"stream process interrupted\")"
   ]
  },
  {
   "cell_type": "code",
   "execution_count": null,
   "metadata": {},
   "outputs": [],
   "source": [
    "# Check active streams\n",
    "for s in spark.streams.active:\n",
    "    print(\"ID:{} | NAME:{}\".format(s.id, s.name))"
   ]
  },
  {
   "cell_type": "code",
   "execution_count": null,
   "metadata": {},
   "outputs": [],
   "source": [
    "# Stop ingestion\n",
    "queryStream.stop()"
   ]
  }
 ],
 "metadata": {
  "kernelspec": {
   "display_name": "Python 3",
   "language": "python",
   "name": "python3"
  },
  "language_info": {
   "codemirror_mode": {
    "name": "ipython",
    "version": 3
   },
   "file_extension": ".py",
   "mimetype": "text/x-python",
   "name": "python",
   "nbconvert_exporter": "python",
   "pygments_lexer": "ipython3",
   "version": "3.8.5"
  }
 },
 "nbformat": 4,
 "nbformat_minor": 4
}
