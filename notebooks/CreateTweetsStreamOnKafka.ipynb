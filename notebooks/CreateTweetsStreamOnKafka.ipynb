{
 "cells": [
  {
   "cell_type": "markdown",
   "metadata": {
    "scrolled": true
   },
   "source": [
    "# Functionality to read tweets"
   ]
  },
  {
   "cell_type": "code",
   "execution_count": null,
   "metadata": {},
   "outputs": [],
   "source": [
    "# project_dir = os.path.join(os.path.dirname(__file__), os.pardir)\n",
    "# dotenv_path = os.path.join(project_dir, '.env')\n",
    "# print(dotenv_path)\n",
    "# print(os.path.pardir)\n",
    "# print(os.pardir)\n",
    "# print(os.path.dirname)"
   ]
  },
  {
   "cell_type": "code",
   "execution_count": null,
   "metadata": {},
   "outputs": [],
   "source": [
    "from tweepy.streaming import StreamListener\n",
    "from tweepy import OAuthHandler\n",
    "from tweepy import Stream\n",
    "from pykafka import KafkaClient\n",
    "import dotenv\n",
    "import json\n",
    "import os\n",
    "\n",
    "def get_kafka_client():\n",
    "    return KafkaClient(hosts='localhost:9092')\n",
    "\n",
    "\n",
    "class TwitterAuthenticator():\n",
    "    \"\"\"\n",
    "    Class for authenticating twitter client api.\n",
    "    \"\"\"\n",
    "    def authenticate_twitter_app(self):\n",
    "        cred = dotenv.dotenv_values()\n",
    "        auth = OAuthHandler(cred.get('TWI_CONSUMER_KEY'), cred.get('TWI_CONSUMER_SECRET'))\n",
    "        auth.set_access_token(cred.get('TWI_ACCESS_TOKEN'), cred.get('TWI_ACCESS_TOKEN_SECRET'))\n",
    "        return auth\n",
    "\n",
    "\n",
    "class TwitterStreamer():\n",
    "    \"\"\"\n",
    "    Class for streaming and processing live tweets.\n",
    "    \"\"\"\n",
    "    def __init__(self):\n",
    "        self.twitter_autenticator = TwitterAuthenticator()    \n",
    "\n",
    "    def stream_tweets(self, hash_tag_list):\n",
    "        # This handles Twitter authetification and the connection to Twitter Streaming API\n",
    "        listener = TwitterListener()\n",
    "        auth = self.twitter_autenticator.authenticate_twitter_app() \n",
    "        stream = Stream(auth, listener)\n",
    "\n",
    "        # This line filter Twitter Streams to capture data by the keywords: \n",
    "        stream.filter(track=hash_tag_list, languages=[\"en\"])\n",
    "\n",
    "\n",
    "class TwitterListener(StreamListener):\n",
    "    \"\"\"\n",
    "    This is a basic listener that just prints received tweets to stdout.\n",
    "    \"\"\"\n",
    "    def on_data(self, raw_data):\n",
    "        client = get_kafka_client()\n",
    "        topic = client.topics['twitterdata']\n",
    "        producer = topic.get_sync_producer()\n",
    "        producer.produce(raw_data.encode('utf-8'))\n",
    "        message = json.loads(raw_data)\n",
    "        print(message)\n",
    "        return True\n",
    "\n",
    "    def on_error(self, status_code):\n",
    "        print(status_code)\n",
    "\n",
    "\n",
    "if __name__ == '__main__':\n",
    "    hash_tag_list = ['covid']\n",
    "    stream = TwitterStreamer()\n",
    "    tweets = stream.stream_tweets(hash_tag_list)"
   ]
  }
 ],
 "metadata": {
  "kernelspec": {
   "display_name": "Python 3",
   "language": "python",
   "name": "python3"
  },
  "language_info": {
   "codemirror_mode": {
    "name": "ipython",
    "version": 3
   },
   "file_extension": ".py",
   "mimetype": "text/x-python",
   "name": "python",
   "nbconvert_exporter": "python",
   "pygments_lexer": "ipython3",
   "version": "3.8.5"
  }
 },
 "nbformat": 4,
 "nbformat_minor": 4
}
