{
 "cells": [
  {
   "cell_type": "markdown",
   "metadata": {},
   "source": [
    "# Tweets stream on socket as source"
   ]
  },
  {
   "cell_type": "code",
   "execution_count": null,
   "metadata": {},
   "outputs": [],
   "source": [
    "from tweepy.streaming import StreamListener\n",
    "from tweepy import OAuthHandler\n",
    "from tweepy import Stream\n",
    "import dotenv\n",
    "import socket\n",
    "import json\n",
    "import os\n",
    "\n",
    "\n",
    "class TwitterAuthenticator():\n",
    "    \"\"\"\n",
    "    Class for authenticating twitter client api.\n",
    "    \"\"\"\n",
    "    def authenticate_twitter_app(self):\n",
    "        cred = dotenv.dotenv_values()\n",
    "        auth = OAuthHandler(cred.get('TWI_CONSUMER_KEY'), cred.get('TWI_CONSUMER_SECRET'))\n",
    "        auth.set_access_token(cred.get('TWI_ACCESS_TOKEN'), cred.get('TWI_ACCESS_TOKEN_SECRET'))\n",
    "        return auth\n",
    "\n",
    "\n",
    "class TwitterStreamer():\n",
    "    \"\"\"\n",
    "    Class for streaming and processing live tweets.\n",
    "    \"\"\"\n",
    "    def __init__(self):\n",
    "        self.twitter_autenticator = TwitterAuthenticator()    \n",
    "\n",
    "    def stream_tweets(self, c_socket, hash_tag_list):\n",
    "        # This handles Twitter authetification and the connection to Twitter Streaming API\n",
    "        auth = self.twitter_autenticator.authenticate_twitter_app() \n",
    "        stream = Stream(auth, TwitterListener(c_socket))\n",
    "\n",
    "        # This line filter Twitter Streams to capture data by the keywords: \n",
    "        stream.filter(track=hash_tag_list, languages=[\"en\"])\n",
    "\n",
    "\n",
    "class TwitterListener(StreamListener):\n",
    "    \"\"\"\n",
    "    This is a basic listener that just prints received tweets to stdout.\n",
    "    \"\"\"\n",
    "    def __init__(self, csocket):\n",
    "        self.client_socket = csocket\n",
    "        \n",
    "    def on_data(self, raw_data):\n",
    "        try:\n",
    "            msg = json.loads(raw_data)\n",
    "            print(msg['text'].encode('utf-8'))\n",
    "            self.client_socket.send(msg['text'].encode('utf-8'))\n",
    "            return True\n",
    "        \n",
    "        except BaseException as e:\n",
    "            print(\"Error on data: %s\" % str(e))\n",
    "            return True\n",
    "        \n",
    "    def on_error(self, status_code):\n",
    "        print(status_code)\n",
    "        return True"
   ]
  },
  {
   "cell_type": "code",
   "execution_count": null,
   "metadata": {},
   "outputs": [],
   "source": [
    "if __name__ == '__main__':\n",
    "    s = socket.socket()\n",
    "    host = 'localhost'\n",
    "    port = 5555\n",
    "    s.bind((host, port))\n",
    "    print(\"Listening on port: %s\" % str(port))\n",
    "    \n",
    "    s.listen(5)\n",
    "    c, addr = s.accept()\n",
    "    \n",
    "    print(\"Received request from: \" + str(addr))\n",
    "    hash_tag_list = ['covid']\n",
    "    stream = TwitterStreamer()\n",
    "    # tweet_analyzer = TweetAnalyzer()\n",
    "    tweets = stream.stream_tweets(c, hash_tag_list)\n",
    "    "
   ]
  }
 ],
 "metadata": {
  "kernelspec": {
   "display_name": "Python 3",
   "language": "python",
   "name": "python3"
  },
  "language_info": {
   "codemirror_mode": {
    "name": "ipython",
    "version": 3
   },
   "file_extension": ".py",
   "mimetype": "text/x-python",
   "name": "python",
   "nbconvert_exporter": "python",
   "pygments_lexer": "ipython3",
   "version": "3.8.5"
  }
 },
 "nbformat": 4,
 "nbformat_minor": 4
}
